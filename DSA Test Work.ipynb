{
 "cells": [
  {
   "cell_type": "code",
   "execution_count": 5,
   "id": "e60449fc",
   "metadata": {},
   "outputs": [
    {
     "name": "stdout",
     "output_type": "stream",
     "text": [
      "[1, 3, 12, 0, 0]\n"
     ]
    }
   ],
   "source": [
    "'''\n",
    "Given an integer array nums, move all 0's to the end of it while maintaining the relative order of the non-zero elements.\n",
    "\n",
    "NOTE -that you must do this in-place without making a copy of the array.\n",
    "'''\n",
    "\n",
    "\n",
    "def movezeros(nums):\n",
    "    zeroCount = 0\n",
    "    n = len(nums)\n",
    "    \n",
    "    for i in range(n):\n",
    "        if nums[i] != 0:\n",
    "            nums[i], nums[i - zeroCount] = nums[i - zeroCount], nums[i]\n",
    "        else:\n",
    "            zeroCount += 1\n",
    "    \n",
    "    for i in range(zeroCount):\n",
    "        nums[n - i - 1] = 0\n",
    "    \n",
    "    return nums\n",
    "\n",
    "\n",
    "\n",
    "nums = [0, 1, 0, 3, 12]\n",
    "result = movezeros(nums)\n",
    "print(result)  "
   ]
  },
  {
   "cell_type": "code",
   "execution_count": 11,
   "id": "066665fa",
   "metadata": {},
   "outputs": [
    {
     "name": "stdout",
     "output_type": "stream",
     "text": [
      "2\n"
     ]
    }
   ],
   "source": [
    "'''\n",
    "Given a string s, find the first non-repeating character in it and return its index. If it does not exist, return -1.\n",
    "'''\n",
    "\n",
    "\n",
    "def firstUniqChar(s):\n",
    "    charFreq = {}\n",
    "    \n",
    "    # Count the frequency of each character\n",
    "    for char in s:\n",
    "        charFreq[char] = charFreq.get(char, 0) + 1\n",
    "    \n",
    "    # Find the first non-repeating character\n",
    "    for i, char in enumerate(s):\n",
    "        if charFreq[char] == 1:\n",
    "            return i\n",
    "    \n",
    "    return -1\n",
    "\n",
    "\n",
    "\n",
    "\n",
    "s = \"loveleetcode\"\n",
    "result = firstUniqChar(s)\n",
    "print(result)"
   ]
  },
  {
   "cell_type": "code",
   "execution_count": null,
   "id": "568cfb1d",
   "metadata": {},
   "outputs": [],
   "source": []
  }
 ],
 "metadata": {
  "kernelspec": {
   "display_name": "Python 3 (ipykernel)",
   "language": "python",
   "name": "python3"
  },
  "language_info": {
   "codemirror_mode": {
    "name": "ipython",
    "version": 3
   },
   "file_extension": ".py",
   "mimetype": "text/x-python",
   "name": "python",
   "nbconvert_exporter": "python",
   "pygments_lexer": "ipython3",
   "version": "3.9.12"
  }
 },
 "nbformat": 4,
 "nbformat_minor": 5
}
